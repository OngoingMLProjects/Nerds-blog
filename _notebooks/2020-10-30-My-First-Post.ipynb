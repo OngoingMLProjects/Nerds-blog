{
 "cells": [
  {
   "cell_type": "markdown",
   "metadata": {},
   "source": [
    "# First blog post\n",
    "> Aim of the blog\n",
    "\n",
    "- toc: true \n",
    "- badges: true\n",
    "- comments: true\n",
    "- categories: [jupyter]\n",
    "\n",
    "\n"
   ]
  },
  {
   "cell_type": "markdown",
   "metadata": {},
   "source": [
    "My name is Nawid Keshtmand. I am currently doing a PhD in Robotics at the University of Bristol. My area of research is in the area of contrastive self-supervised learning.\n",
    "\n",
    "The aim of the blog is to write about areas of Machine Learning or Deep Learning that I desire to learn more about as I have teaching is one of the best ways to learn about. I intend to write about areas of probabilistic machine learning and perhaps short summaries on papers that I read in my spare time. Hopefully others will benefit from this blog."
   ]
  },
  {
   "cell_type": "code",
   "execution_count": null,
   "metadata": {},
   "outputs": [],
   "source": []
  }
 ],
 "metadata": {
  "kernelspec": {
   "display_name": "Python 3",
   "language": "python",
   "name": "python3"
  },
  "language_info": {
   "codemirror_mode": {
    "name": "ipython",
    "version": 3
   },
   "file_extension": ".py",
   "mimetype": "text/x-python",
   "name": "python",
   "nbconvert_exporter": "python",
   "pygments_lexer": "ipython3",
   "version": "3.8.3"
  }
 },
 "nbformat": 4,
 "nbformat_minor": 4
}

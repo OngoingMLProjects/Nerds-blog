{
 "cells": [
  {
   "cell_type": "markdown",
   "metadata": {},
   "source": [
    "# Hidden Markov Models (HMMs) Blog Post\n",
    "> Tutorial on Hidden Markov Models\n",
    "\n",
    "- toc: true \n",
    "- badges: true\n",
    "- comments: true\n",
    "- categories: [jupyter]"
   ]
  },
  {
   "cell_type": "markdown",
   "metadata": {},
   "source": [
    "## What is a Hidden Markov Model\n",
    "\n",
    "### Background\n",
    "A probabilistic model is a function which takes in a random variable X with a particular value x and outputs a probability for observing that particular value of x. Having a function which outputs probabilities rather than deterministic values is important due to the real world being inherently noisy. \n",
    "\n",
    "The main issue with pro\n",
    "\n",
    "\n",
    "A Probabilistic graphical model is a probabilistic model where the indepdence relations between the random variables can be represented in a graphical structure. \n",
    "\n",
    "https://ermongroup.github.io/cs228-notes/preliminaries/introduction/\n",
    "\n",
    "Hidden Markov models (HMMs) are probabilistic graphical models which are used to model $p(z_{t})$ in a sequential process, where a prediction at a timestep t is dependent on the predictions of z in previous timesteps as well as observed data $x_{1:t}$. \n",
    "\n",
    "\n",
    "In a HMM, the state variable $z_{t}$ is a latent variable which we infer from the observed variables $x_{1:t}$ as well as by using the Markov property which is $p(z_{t}|z_{t-1},x_{1:t} = p(z_{t}|z_{t-1})$. They can be considered as a extension of a mixture of gaussians model to a dynamic setting. In the case of a mixture of Gaussians model, $z_{t}$ is sampled from a Multinomial distribution corresponding to a a particular Gaussian from a mixture of Gaussian, then a value of $x_{t}$ is obtained based on the Gaussian chosen from the value of $z_{t}$."
   ]
  },
  {
   "cell_type": "code",
   "execution_count": null,
   "metadata": {},
   "outputs": [],
   "source": []
  }
 ],
 "metadata": {
  "kernelspec": {
   "display_name": "Python 3",
   "language": "python",
   "name": "python3"
  },
  "language_info": {
   "codemirror_mode": {
    "name": "ipython",
    "version": 3
   },
   "file_extension": ".py",
   "mimetype": "text/x-python",
   "name": "python",
   "nbconvert_exporter": "python",
   "pygments_lexer": "ipython3",
   "version": "3.8.3"
  }
 },
 "nbformat": 4,
 "nbformat_minor": 4
}
